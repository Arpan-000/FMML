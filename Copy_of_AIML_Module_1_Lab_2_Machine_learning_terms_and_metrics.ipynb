{
  "nbformat": 4,
  "nbformat_minor": 0,
  "metadata": {
    "colab": {
      "provenance": [],
      "include_colab_link": true
    },
    "kernelspec": {
      "name": "python3",
      "display_name": "Python 3"
    },
    "language_info": {
      "name": "python"
    }
  },
  "cells": [
    {
      "cell_type": "markdown",
      "metadata": {
        "id": "view-in-github",
        "colab_type": "text"
      },
      "source": [
        "<a href=\"https://colab.research.google.com/github/Arpan-000/Student-Training-Program-On-Al-ML/blob/main/Copy_of_AIML_Module_1_Lab_2_Machine_learning_terms_and_metrics.ipynb\" target=\"_parent\"><img src=\"https://colab.research.google.com/assets/colab-badge.svg\" alt=\"Open In Colab\"/></a>"
      ]
    },
    {
      "cell_type": "markdown",
      "metadata": {
        "id": "3Eu9VZbF01eq"
      },
      "source": [
        "##AIML Module 1 - Lab 2\n",
        "# Machine learning terms and metrics\n",
        "\n",
        "\n",
        " In this lab, we will show a part of the ML pipeline by extracting features, training and testing"
      ]
    },
    {
      "cell_type": "code",
      "metadata": {
        "id": "8qBvyEem0vLi"
      },
      "source": [
        "import matplotlib.pyplot as plt\n",
        "import numpy as np\n",
        "from sklearn import datasets\n",
        "# set randomseed\n",
        "rng = np.random.default_rng(seed=42)"
      ],
      "execution_count": 14,
      "outputs": []
    },
    {
      "cell_type": "markdown",
      "metadata": {
        "id": "u3t59g5s1HfC"
      },
      "source": [
        "In this lab, we will use the California Housing dataset. There are 20640 samples, each with 8 attributes like income of the block, age of the houses per district etc. The task is to predict the cost of the houses per district.\n",
        "\n",
        "Let us download and examine the dataset."
      ]
    },
    {
      "cell_type": "code",
      "metadata": {
        "id": "8LpqjN991GGJ",
        "colab": {
          "base_uri": "https://localhost:8080/"
        },
        "outputId": "5fcfb0fb-36d0-4692-a312-614b874f1351"
      },
      "source": [
        " dataset =  datasets.fetch_california_housing()\n",
        " # print(dataset.DESCR)  # uncomment this if you want to know more about this dataset\n",
        " # print(dataset.keys())  # if you want to know what else is there in this dataset\n",
        " dataset.target = dataset.target.astype(np.int) # so that we can classify\n",
        " print(dataset.data.shape)\n",
        " print(dataset.target.shape)"
      ],
      "execution_count": 15,
      "outputs": [
        {
          "output_type": "stream",
          "name": "stdout",
          "text": [
            "(20640, 8)\n",
            "(20640,)\n"
          ]
        },
        {
          "output_type": "stream",
          "name": "stderr",
          "text": [
            "<ipython-input-15-60ae2e9a125e>:4: DeprecationWarning: `np.int` is a deprecated alias for the builtin `int`. To silence this warning, use `int` by itself. Doing this will not modify any behavior and is safe. When replacing `np.int`, you may wish to use e.g. `np.int64` or `np.int32` to specify the precision. If you wish to review your current use, check the release note link for additional information.\n",
            "Deprecated in NumPy 1.20; for more details and guidance: https://numpy.org/devdocs/release/1.20.0-notes.html#deprecations\n",
            "  dataset.target = dataset.target.astype(np.int) # so that we can classify\n"
          ]
        }
      ]
    },
    {
      "cell_type": "markdown",
      "metadata": {
        "id": "iNx4174W5xRg"
      },
      "source": [
        "Here is a function for calculating the 1-nearest neighbours"
      ]
    },
    {
      "cell_type": "code",
      "metadata": {
        "id": "07zpydQj1hIQ"
      },
      "source": [
        "def NN1(traindata, trainlabel, query):\n",
        "  diff  = traindata - query  # find the difference between features. Numpy automatically takes care of the size here\n",
        "  sq = diff*diff # square the differences\n",
        "  dist = sq.sum(1) # add up the squares\n",
        "  label = trainlabel[np.argmin(dist)] # our predicted label is the label of the training data which has the least distance from the query\n",
        "  return label\n",
        "\n",
        "def NN(traindata, trainlabel, testdata):\n",
        "  # we will run nearest neighbour for each sample in the test data\n",
        "  # and collect the predicted classes in an array using list comprehension\n",
        "  predlabel = np.array([NN1(traindata, trainlabel, i) for i in testdata])\n",
        "  return predlabel"
      ],
      "execution_count": 16,
      "outputs": []
    },
    {
      "cell_type": "markdown",
      "metadata": {
        "id": "03JktkfIGaje"
      },
      "source": [
        "We will also define a 'random classifier', which randomly allots labels to each sample"
      ]
    },
    {
      "cell_type": "code",
      "metadata": {
        "id": "fogWAtjyGhAH"
      },
      "source": [
        "def RandomClassifier(traindata, trainlabel, testdata):\n",
        "  # in reality, we don't need these arguments\n",
        "\n",
        "  classes = np.unique(trainlabel)\n",
        "  rints = rng.integers(low=0, high=len(classes), size=len(testdata))\n",
        "  predlabel = classes[rints]\n",
        "  return predlabel"
      ],
      "execution_count": 17,
      "outputs": []
    },
    {
      "cell_type": "markdown",
      "metadata": {
        "id": "1Hjf1KHs7fU5"
      },
      "source": [
        "Let us define a metric 'Accuracy' to see how good our learning algorithm is. Accuracy is the ratio of the number of correctly classified samples to the total number of samples. The higher the accuracy, the better the algorithm."
      ]
    },
    {
      "cell_type": "code",
      "metadata": {
        "id": "ouuCqWU07bz-"
      },
      "source": [
        "def Accuracy(gtlabel, predlabel):\n",
        "  assert len(gtlabel)==len(predlabel), \"Length of the groundtruth labels and predicted labels should be the same\"\n",
        "  correct = (gtlabel==predlabel).sum() # count the number of times the groundtruth label is equal to the predicted label.\n",
        "  return correct/len(gtlabel)"
      ],
      "execution_count": 18,
      "outputs": []
    },
    {
      "cell_type": "markdown",
      "metadata": {
        "id": "4vJFwBFa9Klw"
      },
      "source": [
        "Let us make a function to split the dataset with the desired probability."
      ]
    },
    {
      "cell_type": "code",
      "metadata": {
        "id": "Ko0VzpSM2Tdi"
      },
      "source": [
        "def split(data, label, percent):\n",
        "  # generate a random number for each sample\n",
        "  rnd = rng.random(len(label))\n",
        "  split1 = rnd<percent\n",
        "  split2 = rnd>=percent\n",
        "  split1data = data[split1,:]\n",
        "  split1label = label[split1]\n",
        "  split2data = data[split2,:]\n",
        "  split2label = label[split2]\n",
        "  return split1data, split1label, split2data, split2label"
      ],
      "execution_count": 19,
      "outputs": []
    },
    {
      "cell_type": "markdown",
      "metadata": {
        "id": "AcK3LEAJ_LGC"
      },
      "source": [
        "We will reserve 20% of our dataset as the test set. We will not change this portion throughout our experiments"
      ]
    },
    {
      "cell_type": "code",
      "metadata": {
        "id": "bBZkHBLJ1iU-",
        "colab": {
          "base_uri": "https://localhost:8080/"
        },
        "outputId": "6a333846-1493-47cb-e5fa-11afddf96de0"
      },
      "source": [
        "testdata, testlabel, alltraindata, alltrainlabel = split(dataset.data, dataset.target, 20/100)\n",
        "print('Number of test samples = ', len(testlabel))\n",
        "print('Number of other samples = ', len(alltrainlabel))\n",
        "print('Percent of test data = ', len(testlabel)*100/len(dataset.target),'%')"
      ],
      "execution_count": 20,
      "outputs": [
        {
          "output_type": "stream",
          "name": "stdout",
          "text": [
            "Number of test samples =  4144\n",
            "Number of other samples =  16496\n",
            "Percent of test data =  20.07751937984496 %\n"
          ]
        }
      ]
    },
    {
      "cell_type": "markdown",
      "metadata": {
        "id": "a6Ss0Z6IAGNV"
      },
      "source": [
        "## Experiments with splits\n",
        "\n",
        "Let us reserve some of our train data as a validation set"
      ]
    },
    {
      "cell_type": "code",
      "metadata": {
        "id": "WFew2iry_7W7"
      },
      "source": [
        "\n",
        "traindata, trainlabel, valdata, vallabel = split(alltraindata, alltrainlabel, 75/100)"
      ],
      "execution_count": 36,
      "outputs": []
    },
    {
      "cell_type": "markdown",
      "metadata": {
        "id": "60hiu4clFN1i"
      },
      "source": [
        "What is the accuracy of our classifiers on the train dataset?"
      ]
    },
    {
      "cell_type": "code",
      "metadata": {
        "id": "DBlZDTHUFTZx",
        "colab": {
          "base_uri": "https://localhost:8080/"
        },
        "outputId": "44cd4ef8-f30c-407f-d79b-98789de93a01"
      },
      "source": [
        "trainpred = NN(traindata, trainlabel, traindata)\n",
        "trainAccuracy = Accuracy(trainlabel, trainpred)\n",
        "print(\"Train accuracy using nearest neighbour is \", trainAccuracy)\n",
        "\n",
        "trainpred = RandomClassifier(traindata, trainlabel, traindata)\n",
        "trainAccuracy = Accuracy(trainlabel, trainpred)\n",
        "print(\"Train accuracy using random classifier is \", trainAccuracy)"
      ],
      "execution_count": 23,
      "outputs": [
        {
          "output_type": "stream",
          "name": "stdout",
          "text": [
            "Train accuracy using nearest neighbour is  1.0\n",
            "Train accuracy using random classifier is  0.164375808538163\n"
          ]
        }
      ]
    },
    {
      "cell_type": "markdown",
      "metadata": {
        "id": "7h08-9gJDtSy"
      },
      "source": [
        "For nearest neighbour, the train accuracy is always 1. The accuracy of the random classifier is close to 1/(number of classes) which is 0.1666 in our case.\n",
        "\n",
        "Let us predict the labels for our validation set and get the accuracy"
      ]
    },
    {
      "cell_type": "code",
      "metadata": {
        "id": "4h7bXoW_2H3v",
        "colab": {
          "base_uri": "https://localhost:8080/"
        },
        "outputId": "1f300c77-c360-4810-d80c-2e809e670f9f"
      },
      "source": [
        "valpred = NN(traindata, trainlabel, valdata)\n",
        "valAccuracy = Accuracy(vallabel, valpred)\n",
        "print(\"Validation accuracy using nearest neighbour is \", valAccuracy)\n",
        "\n",
        "valpred = RandomClassifier(traindata, trainlabel, valdata)\n",
        "valAccuracy = Accuracy(vallabel, valpred)\n",
        "print(\"Validation accuracy using random classifier is \", valAccuracy)"
      ],
      "execution_count": 24,
      "outputs": [
        {
          "output_type": "stream",
          "name": "stdout",
          "text": [
            "Validation accuracy using nearest neighbour is  0.34108527131782945\n",
            "Validation accuracy using random classifier is  0.1688468992248062\n"
          ]
        }
      ]
    },
    {
      "cell_type": "markdown",
      "metadata": {
        "id": "py9bLguFEjfg"
      },
      "source": [
        "Validation accuracy of nearest neighbour is considerably less than its train accuracy while the validation accuracy of random classifier is the same. However, the validation accuracy of nearest neighbour is twice that of the random classifier.\n",
        "\n",
        "Now let us try another random split and check the validation accuracy"
      ]
    },
    {
      "cell_type": "code",
      "metadata": {
        "id": "ujm3cyYzEntE",
        "colab": {
          "base_uri": "https://localhost:8080/"
        },
        "outputId": "1e562a96-6241-4367-f92e-460a285560f2"
      },
      "source": [
        "trainpred = NN(traindata, trainlabel, traindata)\n",
        "trainAccuracy = Accuracy(trainlabel, trainpred)\n",
        "print(\"Train accuracy using nearest neighbour is \", trainAccuracy)\n",
        "\n",
        "trainpred = RandomClassifier(traindata, trainlabel, traindata)\n",
        "trainAccuracy = Accuracy(trainlabel, trainpred)\n",
        "print(\"Train accuracy using random classifier is \", trainAccuracy)"
      ],
      "execution_count": 25,
      "outputs": [
        {
          "output_type": "stream",
          "name": "stdout",
          "text": [
            "Train accuracy using nearest neighbour is  1.0\n",
            "Train accuracy using random classifier is  0.16510349288486417\n"
          ]
        }
      ]
    },
    {
      "cell_type": "markdown",
      "metadata": {
        "id": "oSOx7U83EKie"
      },
      "source": [
        "You can run the above cell multiple times to try with different random splits.\n",
        "We notice that the accuracy is different for each run, but close together.\n",
        "\n",
        "Now let us compare it with the accuracy we get on the test dataset."
      ]
    },
    {
      "cell_type": "code",
      "metadata": {
        "id": "PNEZ5ToYBEDW",
        "colab": {
          "base_uri": "https://localhost:8080/"
        },
        "outputId": "07cbfce7-acb0-458d-bd23-87553e72ec6b"
      },
      "source": [
        "testpred = NN(alltraindata, alltrainlabel, testdata)\n",
        "testAccuracy = Accuracy(testlabel, testpred)\n",
        "print('Test accuracy is ', testAccuracy)"
      ],
      "execution_count": 26,
      "outputs": [
        {
          "output_type": "stream",
          "name": "stdout",
          "text": [
            "Test accuracy is  0.34917953667953666\n"
          ]
        }
      ]
    },
    {
      "cell_type": "markdown",
      "metadata": {
        "id": "w3dGD531K3gH"
      },
      "source": [
        "### Try it out for yourself and answer:\n",
        "1. How is the accuracy of the validation set affected if we increase the percentage of validation set? What happens when we reduce it?\n",
        "2. How does the size of the train and validation set affect how well we can predict the accuracy on the test set using the validation set?\n",
        "3. What do you think is a good percentage to reserve for the validation set so that thest two factors are balanced?\n",
        "\n",
        "Answer for both nearest neighbour and random classifier. You can note down the values for your experiments and plot a graph using  <a href=https://matplotlib.org/stable/gallery/lines_bars_and_markers/step_demo.html#sphx-glr-gallery-lines-bars-and-markers-step-demo-py>plt.plot<href>. Check also for extreme values for splits, like 99.9% or 0.1%"
      ]
    },
    {
      "cell_type": "code",
      "source": [
        "traindata, trainlabel, valdata, vallabel = split(alltraindata, alltrainlabel, 40/100)"
      ],
      "metadata": {
        "id": "4i56H09-tGkg"
      },
      "execution_count": 27,
      "outputs": []
    },
    {
      "cell_type": "code",
      "source": [
        "\n",
        "valpred = RandomClassifier(traindata, trainlabel, valdata)\n",
        "valAccuracy = Accuracy(vallabel, valpred)\n",
        "print(\"Validation accuracy using random classifier is \", valAccuracy)\n",
        "valpred = NN(traindata, trainlabel, valdata)\n",
        "valAccuracy = Accuracy(vallabel, valpred)\n",
        "print(\"Validation accuracy of nearest neighbour is \", valAccuracy)"
      ],
      "metadata": {
        "id": "HWLDl9pktYj7",
        "outputId": "35ee9bc3-5ca3-4c69-d139-7f657e9a2229",
        "colab": {
          "base_uri": "https://localhost:8080/"
        }
      },
      "execution_count": null,
      "outputs": [
        {
          "output_type": "stream",
          "name": "stdout",
          "text": [
            "Validation accuracy using random classifier is  0.16530509329299042\n",
            "Validation accuracy of nearest neighbour is  0.33121533030761474\n"
          ]
        }
      ]
    },
    {
      "cell_type": "code",
      "source": [
        "testpred = NN(traindata, trainlabel, testdata)\n",
        "testAccuracy = Accuracy(testlabel, testpred)\n",
        "print('Test accuracy is ', testAccuracy)"
      ],
      "metadata": {
        "colab": {
          "base_uri": "https://localhost:8080/"
        },
        "id": "u7RCjZzt9Lm2",
        "outputId": "dc85cd84-6f44-45b8-ffc2-89087b9953fe"
      },
      "execution_count": null,
      "outputs": [
        {
          "output_type": "stream",
          "name": "stdout",
          "text": [
            "Test accuracy is  0.3187741312741313\n"
          ]
        }
      ]
    },
    {
      "cell_type": "code",
      "source": [
        "traindata, trainlabel, valdata, vallabel = split(alltraindata, alltrainlabel, 20/100)"
      ],
      "metadata": {
        "id": "Jq5DmGI80ZHV"
      },
      "execution_count": null,
      "outputs": []
    },
    {
      "cell_type": "code",
      "source": [
        "valpred = RandomClassifier(traindata, trainlabel, valdata)\n",
        "valAccuracy = Accuracy(vallabel, valpred)\n",
        "print(\"Validation accuracy using random classifier is \", valAccuracy)\n",
        "valpred = NN(traindata, trainlabel, valdata)\n",
        "valAccuracy = Accuracy(vallabel, valpred)\n",
        "print(\"Validation accuracy of nearest neighbour is \", valAccuracy)"
      ],
      "metadata": {
        "colab": {
          "base_uri": "https://localhost:8080/"
        },
        "id": "el73M3JQ0cjo",
        "outputId": "7480d40f-db4e-401d-dfe3-dc185351c527"
      },
      "execution_count": null,
      "outputs": [
        {
          "output_type": "stream",
          "name": "stdout",
          "text": [
            "Validation accuracy using random classifier is  0.16044635452009348\n",
            "Validation accuracy of nearest neighbour is  0.3078489029631305\n"
          ]
        }
      ]
    },
    {
      "cell_type": "code",
      "source": [
        "testpred = NN(traindata, trainlabel, testdata)\n",
        "testAccuracy = Accuracy(testlabel, testpred)\n",
        "print('Test accuracy is ', testAccuracy)"
      ],
      "metadata": {
        "colab": {
          "base_uri": "https://localhost:8080/"
        },
        "id": "siY5HyYoApT7",
        "outputId": "f5423584-2d79-4bd1-b9a5-c1fb977515f8"
      },
      "execution_count": null,
      "outputs": [
        {
          "output_type": "stream",
          "name": "stdout",
          "text": [
            "Test accuracy is  0.29126447876447875\n"
          ]
        }
      ]
    },
    {
      "cell_type": "markdown",
      "source": [
        "# ANSWERS\n",
        "1) From the above illustrations we come to a conclusion that as the percentage of the validation set is decreased the validation and the test accuracy of the nearest neighbour decreases.  \n",
        "\n",
        "\n",
        "\n",
        "*    The  accuracy of validation set with decreased  Validation datapoints can't really be trusted upon since it's a small pie of a larger cake.\n",
        "*   Moving on with the results of test accuracy it's because of Overfitting issue that the model's accuracy goes on deteriorating.\n",
        "\n",
        "\n",
        "\n",
        "\n",
        "\n",
        "\n",
        "\n",
        "\n",
        "\n",
        "\n",
        "\n"
      ],
      "metadata": {
        "id": "3LGecau20lk5"
      }
    },
    {
      "cell_type": "code",
      "source": [
        "traindata, trainlabel, valdata, vallabel = split(alltraindata, alltrainlabel, 99/100)"
      ],
      "metadata": {
        "id": "Fj6vMG6J1N9t"
      },
      "execution_count": null,
      "outputs": []
    },
    {
      "cell_type": "code",
      "source": [
        "valpred = RandomClassifier(traindata, trainlabel, valdata)\n",
        "valAccuracy = Accuracy(vallabel, valpred)\n",
        "print(\"Validation accuracy using random classifier is \", valAccuracy)\n",
        "valpred = NN(traindata, trainlabel, valdata)\n",
        "valAccuracy = Accuracy(vallabel, valpred)\n",
        "print(\"Validation accuracy of nearest neighbour is \", valAccuracy)"
      ],
      "metadata": {
        "colab": {
          "base_uri": "https://localhost:8080/"
        },
        "id": "QuDTm7dW1KXu",
        "outputId": "7c392a47-bfb3-4a9f-d293-4db11b241fd2"
      },
      "execution_count": null,
      "outputs": [
        {
          "output_type": "stream",
          "name": "stdout",
          "text": [
            "Validation accuracy using random classifier is  0.1875\n",
            "Validation accuracy of nearest neighbour is  0.3068181818181818\n"
          ]
        }
      ]
    },
    {
      "cell_type": "code",
      "source": [
        "testpred = NN(traindata, trainlabel, testdata)\n",
        "testAccuracy = Accuracy(testlabel, testpred)\n",
        "print('Test accuracy is ', testAccuracy)"
      ],
      "metadata": {
        "colab": {
          "base_uri": "https://localhost:8080/"
        },
        "id": "Cef_tFqOBHCr",
        "outputId": "910a7e00-dc09-494b-c29c-dd62bb77deba"
      },
      "execution_count": null,
      "outputs": [
        {
          "output_type": "stream",
          "name": "stdout",
          "text": [
            "Test accuracy is  0.3511100386100386\n"
          ]
        }
      ]
    },
    {
      "cell_type": "code",
      "source": [
        "traindata, trainlabel, valdata, vallabel = split(alltraindata, alltrainlabel, 99.2/100)"
      ],
      "metadata": {
        "id": "0uSPiH_A1WAx"
      },
      "execution_count": null,
      "outputs": []
    },
    {
      "cell_type": "code",
      "source": [
        "valpred = RandomClassifier(traindata, trainlabel, valdata)\n",
        "valAccuracy = Accuracy(vallabel, valpred)\n",
        "print(\"Validation accuracy using random classifier is \", valAccuracy)\n",
        "valpred = NN(traindata, trainlabel, valdata)\n",
        "valAccuracy = Accuracy(vallabel, valpred)\n",
        "print(\"Validation accuracy of nearest neighbour is \", valAccuracy)"
      ],
      "metadata": {
        "colab": {
          "base_uri": "https://localhost:8080/"
        },
        "id": "eunZVKWP1VBn",
        "outputId": "dd02feb4-46e2-412a-f9d3-68989c27620d"
      },
      "execution_count": null,
      "outputs": [
        {
          "output_type": "stream",
          "name": "stdout",
          "text": [
            "Validation accuracy using random classifier is  0.18518518518518517\n",
            "Validation accuracy of nearest neighbour is  0.31851851851851853\n"
          ]
        }
      ]
    },
    {
      "cell_type": "code",
      "source": [
        "testpred = NN(traindata, trainlabel, testdata)\n",
        "testAccuracy = Accuracy(testlabel, testpred)\n",
        "print('Test accuracy is ', testAccuracy)"
      ],
      "metadata": {
        "colab": {
          "base_uri": "https://localhost:8080/"
        },
        "id": "W0yFbgdZDNlI",
        "outputId": "2222d575-f463-46f1-bead-95bb84f8e44f"
      },
      "execution_count": null,
      "outputs": [
        {
          "output_type": "stream",
          "name": "stdout",
          "text": [
            "Test accuracy is  0.3484555984555985\n"
          ]
        }
      ]
    },
    {
      "cell_type": "code",
      "source": [
        "traindata, trainlabel, valdata, vallabel = split(alltraindata, alltrainlabel, 99.6/100)"
      ],
      "metadata": {
        "id": "gl6ATDKZ2MiW"
      },
      "execution_count": null,
      "outputs": []
    },
    {
      "cell_type": "code",
      "source": [
        "\n",
        "valpred = NN(traindata, trainlabel, valdata)\n",
        "valAccuracy = Accuracy(vallabel, valpred)\n",
        "print(\"Validation accuracy of nearest neighbour is \", valAccuracy)"
      ],
      "metadata": {
        "colab": {
          "base_uri": "https://localhost:8080/"
        },
        "id": "fps4YCAI2OpD",
        "outputId": "e281286b-bca6-4923-d976-135bbdfc51f9"
      },
      "execution_count": null,
      "outputs": [
        {
          "output_type": "stream",
          "name": "stdout",
          "text": [
            "Validation accuracy of nearest neighbour is  0.31851851851851853\n"
          ]
        }
      ]
    },
    {
      "cell_type": "code",
      "source": [
        "testpred = NN(traindata, trainlabel, testdata)\n",
        "testAccuracy = Accuracy(testlabel, testpred)\n",
        "print('Test accuracy is ', testAccuracy)"
      ],
      "metadata": {
        "colab": {
          "base_uri": "https://localhost:8080/"
        },
        "id": "qfi67A4tDSyf",
        "outputId": "a15d1dd8-4698-4c1e-8b40-032a1f5866b9"
      },
      "execution_count": null,
      "outputs": [
        {
          "output_type": "stream",
          "name": "stdout",
          "text": [
            "Test accuracy is  0.3484555984555985\n"
          ]
        }
      ]
    },
    {
      "cell_type": "markdown",
      "source": [
        "# Continuation Of Answers\n",
        "\n",
        "1) As we notice in the above examples that after a given point the validation accuracy increases but the same isn't reciprocated in the case of test accuracy .\n",
        "\n",
        "2) At 99% Validation datapoint we get the maximum test accuracy.Though the value keeps changing for each time we execute but the values tend to diminish after 99%."
      ],
      "metadata": {
        "id": "XuFlEaTeSvWU"
      }
    },
    {
      "cell_type": "code",
      "source": [
        "traindata, trainlabel, valdata, vallabel = split(alltraindata, alltrainlabel, 0.01/100)\n"
      ],
      "metadata": {
        "id": "jCMen1gHWgKY"
      },
      "execution_count": 31,
      "outputs": []
    },
    {
      "cell_type": "code",
      "source": [
        "valpred = NN(traindata, trainlabel, valdata)\n",
        "valAccuracy = Accuracy(vallabel, valpred)\n",
        "print(\"Validation accuracy of nearest neighbour is \", valAccuracy)"
      ],
      "metadata": {
        "colab": {
          "base_uri": "https://localhost:8080/"
        },
        "id": "1BWpBiTsWq9e",
        "outputId": "375082b5-813f-47dc-bbed-723560312a7a"
      },
      "execution_count": 32,
      "outputs": [
        {
          "output_type": "stream",
          "name": "stdout",
          "text": [
            "Validation accuracy of nearest neighbour is  0.056808536437492424\n"
          ]
        }
      ]
    },
    {
      "cell_type": "code",
      "source": [
        "testpred = NN(traindata, trainlabel, testdata)\n",
        "testAccuracy = Accuracy(testlabel, testpred)\n",
        "print('Test accuracy is ', testAccuracy)"
      ],
      "metadata": {
        "colab": {
          "base_uri": "https://localhost:8080/"
        },
        "id": "ScBFmRLDWxe4",
        "outputId": "d6b7d492-08f6-4d28-ee58-257aca930e8f"
      },
      "execution_count": 33,
      "outputs": [
        {
          "output_type": "stream",
          "name": "stdout",
          "text": [
            "Test accuracy is  0.052847490347490346\n"
          ]
        }
      ]
    },
    {
      "cell_type": "code",
      "source": [
        "# Assuming you have defined your split, NN, and Accuracy functions\n",
        "\n",
        "def train_and_val(validation_percent):\n",
        "    # Split the data into training and validation sets\n",
        "    traindata, trainlabel, valdata, vallabel = split(alltraindata, alltrainlabel, validation_percent / 100)\n",
        "\n",
        "    # Train the model\n",
        "    trainpred = NN(traindata, trainlabel, traindata)  # Replace traindata with your actual training data\n",
        "\n",
        "    # Validate the model on the validation set\n",
        "    valpred = NN(traindata, trainlabel, valdata)\n",
        "\n",
        "    # Calculate validation accuracy\n",
        "    valAccuracy = Accuracy(vallabel, valpred)\n",
        "\n",
        "    return valAccuracy\n",
        "\n",
        "# Define a list to store validation accuracies\n",
        "validation_accuracies = []\n",
        "\n",
        "# Loop through different percentages of validation data\n",
        "for i in range(1, 100):\n",
        "    validation_percent = i\n",
        "    val_accuracy = train_and_val(validation_percent)\n",
        "    validation_accuracies.append(val_accuracy)\n",
        "    print(val_accuracy)\n",
        "\n",
        "# You can analyze the validation accuracies as needed\n"
      ],
      "metadata": {
        "colab": {
          "base_uri": "https://localhost:8080/"
        },
        "id": "bnUC6IY7i2N_",
        "outputId": "21a8d0a3-c29f-40c6-986f-2d53be5c842f"
      },
      "execution_count": null,
      "outputs": [
        {
          "output_type": "stream",
          "name": "stdout",
          "text": [
            "0.260611257426349\n",
            "0.2811804008908686\n",
            "0.278872006502845\n",
            "0.28247266291637696\n",
            "0.2732669475296821\n",
            "0.2820595645713547\n",
            "0.2860960823935858\n",
            "0.29199815898481163\n",
            "0.30078151092111416\n",
            "0.2893951722267426\n",
            "0.2900784180020457\n",
            "0.3033645890788748\n",
            "0.2980889942809318\n",
            "0.2944863037814238\n",
            "0.2990059357791604\n",
            "0.3052532968220797\n",
            "0.31341320864991234\n",
            "0.2996894409937888\n",
            "0.3027802557240559\n",
            "0.3097176774979073\n",
            "0.3105718441399372\n",
            "0.31097418298104673\n",
            "0.30942445476734115\n",
            "0.31230006397952653\n",
            "0.3162559973977393\n",
            "0.3161951619516195\n",
            "0.3159730874657364\n",
            "0.3178952677145499\n",
            "0.32152309399812173\n",
            "0.31715126341294564\n",
            "0.3186036235086169\n",
            "0.3160192444761226\n",
            "0.3181777094820573\n",
            "0.31993392070484583\n",
            "0.3197101987739179\n",
            "0.3210862619808307\n",
            "0.318893830980468\n",
            "0.32131308182263596\n",
            "0.3202970297029703\n",
            "0.31677825522134506\n",
            "0.32854061826024444\n",
            "0.32739350485027413\n",
            "0.3244016098284262\n",
            "0.3195975596703414\n",
            "0.3277943945939958\n",
            "0.3278557571607897\n",
            "0.3260571428571429\n",
            "0.3283478260869565\n",
            "0.33099011080662455\n",
            "0.33645435505728716\n",
            "0.32326133100262205\n",
            "0.3283239938869078\n",
            "0.3281432463993772\n",
            "0.33183678859104715\n",
            "0.33342325330455896\n",
            "0.3354706684856753\n",
            "0.32868724221305645\n",
            "0.3367682839559181\n",
            "0.325113089158033\n",
            "0.3367008443908323\n",
            "0.3433622828784119\n",
            "0.34139654894371874\n",
            "0.32979591836734695\n",
            "0.3416638711841664\n",
            "0.32554543892801924\n",
            "0.3401324029343353\n",
            "0.33576110706482154\n",
            "0.33514221556886226\n",
            "0.3362848893166506\n",
            "0.3309514087382605\n",
            "0.332220367278798\n",
            "0.34431202600216687\n",
            "0.34624860022396414\n",
            "0.3450834879406308\n",
            "0.338296314376373\n",
            "0.3560830860534125\n",
            "0.3325484039769754\n",
            "0.34151724137931033\n",
            "0.3449971081550029\n",
            "0.34836561743341404\n",
            "0.33301496338745623\n",
            "0.3406310367031552\n",
            "0.3238512035010941\n",
            "0.357032457496136\n",
            "0.3393892539621183\n",
            "0.35495335406486006\n",
            "0.35271504084574723\n",
            "0.35356068204613844\n",
            "0.3550361713967724\n",
            "0.34425253126861227\n"
          ]
        }
      ]
    },
    {
      "cell_type": "code",
      "source": [
        "# Define a list to store test accuracies\n",
        "test_accuracies = []\n",
        "\n",
        "# Loop through different percentages of test data\n",
        "for i in range(1, 100):\n",
        "    test_percent = i\n",
        "    traindata, trainlabel, testdata, testlabel = split(alltraindata, alltrainlabel, (100 - test_percent) / 100)\n",
        "\n",
        "    # Train the model\n",
        "    trainpred = NN(traindata, trainlabel, traindata)  # Replace traindata with your actual training data\n",
        "\n",
        "    # Test the model on the test set\n",
        "    testpred = NN(traindata, trainlabel, testdata)\n",
        "\n",
        "    # Calculate test accuracy\n",
        "    test_accuracy = Accuracy(testlabel, testpred)\n",
        "\n",
        "    test_accuracies.append(test_accuracy)\n",
        "\n",
        "    print(test_accuracy)\n",
        "\n",
        "# You can analyze the test accuracies as needed\n"
      ],
      "metadata": {
        "colab": {
          "base_uri": "https://localhost:8080/"
        },
        "id": "4ZkPxyJ76hiK",
        "outputId": "8a6ee132-29fa-40e8-af17-e089e71971ce"
      },
      "execution_count": null,
      "outputs": [
        {
          "output_type": "stream",
          "name": "stdout",
          "text": [
            "0.3273809523809524\n",
            "0.3515151515151515\n",
            "0.3587174348697395\n",
            "0.3607305936073059\n",
            "0.3588456712672522\n",
            "0.34536585365853656\n",
            "0.34188817598533455\n",
            "0.3538102643856921\n",
            "0.3725992317541613\n",
            "0.3471223021582734\n",
            "0.337116912599319\n",
            "0.35923309788092833\n",
            "0.3510436432637571\n",
            "0.34024179620034545\n",
            "0.3416173570019724\n",
            "0.3462757527733756\n",
            "0.3341654778887304\n",
            "0.34468937875751504\n",
            "0.3494589433481859\n",
            "0.34332425068119893\n",
            "0.34615384615384615\n",
            "0.33873626373626375\n",
            "0.34839224023385595\n",
            "0.3397633744855967\n",
            "0.34328720563243503\n",
            "0.3298847872090289\n",
            "0.3417163026693139\n",
            "0.3443680137575236\n",
            "0.34395973154362414\n",
            "0.3341503267973856\n",
            "0.34146341463414637\n",
            "0.3316831683168317\n",
            "0.3374324576113285\n",
            "0.33932704290546556\n",
            "0.3322288106034182\n",
            "0.3262041091276524\n",
            "0.33579572828007065\n",
            "0.3331711273317113\n",
            "0.32144540455616655\n",
            "0.3374659812518899\n",
            "0.33140139693862386\n",
            "0.33437945791726104\n",
            "0.33314326443335707\n",
            "0.3327900027166531\n",
            "0.33067135896047645\n",
            "0.3411949685534591\n",
            "0.32499032382918336\n",
            "0.3284232099397976\n",
            "0.31899147014550927\n",
            "0.32095938290948534\n",
            "0.32629218786877506\n",
            "0.3301643192488263\n",
            "0.3281053234115627\n",
            "0.3234334570817865\n",
            "0.33611232996928475\n",
            "0.32992827646163875\n",
            "0.3216650898770104\n",
            "0.315915727993325\n",
            "0.32752434648898\n",
            "0.31674891731292176\n",
            "0.3245361643020141\n",
            "0.3250074044821799\n",
            "0.3262139641796763\n",
            "0.3268394174390013\n",
            "0.3192691655679036\n",
            "0.3202909224820475\n",
            "0.3211474074744367\n",
            "0.31928298873014466\n",
            "0.3197812858276744\n",
            "0.32445290199809707\n",
            "0.3116403026134801\n",
            "0.31871908793696035\n",
            "0.31462075848303395\n",
            "0.3148991541964867\n",
            "0.31382678182258456\n",
            "0.31211662550784675\n",
            "0.30930434097534076\n",
            "0.31153905886007144\n",
            "0.3139615119221038\n",
            "0.3105703422053232\n",
            "0.3086179834068316\n",
            "0.3031042128603104\n",
            "0.3051933862626557\n",
            "0.30360490266762796\n",
            "0.2985393658710367\n",
            "0.2988270209157716\n",
            "0.29285117056856186\n",
            "0.3008343101427291\n",
            "0.29948341489940183\n",
            "0.2929183825018565\n",
            "0.29508196721311475\n",
            "0.2960687148992402\n",
            "0.28922815945716707\n",
            "0.29245039938160267\n",
            "0.2856502816180235\n",
            "0.28257844129554655\n",
            "0.2652206525815727\n",
            "0.2893463971226591\n",
            "0.2834997855523559\n"
          ]
        }
      ]
    },
    {
      "cell_type": "code",
      "source": [
        "import pandas as pd\n",
        "import seaborn as sns\n",
        "import matplotlib.pyplot as plt\n",
        "df = pd.read_csv(\"N1N.csv\")\n",
        "\n",
        "\n",
        "plt.scatter('Test Acc','Validation datapoints',data =df,label = 'Test Accuracy')\n",
        "plt.scatter('Validation acc','Validation datapoints',data =df,label ='Validation Accuracy')\n",
        "\n",
        "plt.xlabel('Accuracy')\n",
        "plt.ylabel('Percentage of Validation Datapoints')\n",
        "plt.legend()\n",
        "\n",
        "\n",
        "plt.show()\n"
      ],
      "metadata": {
        "colab": {
          "base_uri": "https://localhost:8080/",
          "height": 449
        },
        "id": "kyR03Hf1LzhB",
        "outputId": "f85e1fe4-36e3-496e-a685-57a026a475da"
      },
      "execution_count": 12,
      "outputs": [
        {
          "output_type": "display_data",
          "data": {
            "text/plain": [
              "<Figure size 640x480 with 1 Axes>"
            ],
            "image/png": "[encoded data removed]"
          },
          "metadata": {}
        }
      ]
    },
    {
      "cell_type": "markdown",
      "source": [
        "3) refering the plot it looks like the ideal division of 15-20% of validation holds good."
      ],
      "metadata": {
        "id": "K06zA5iLU4B4"
      }
    },
    {
      "cell_type": "markdown",
      "source": [],
      "metadata": {
        "id": "1mmHdO7OSF3V"
      }
    },
    {
      "cell_type": "markdown",
      "metadata": {
        "id": "PnYvkAZLQY7h"
      },
      "source": [
        "## Multiple Splits\n",
        "\n",
        "One way to get more accurate estimates for the test accuracy is by using <b>crossvalidation</b>. Here, we will try a simple version, where we do multiple train/val splits and take the average of validation accuracies as the test accuracy estimation. Here is a function for doing this. Note that this function will take a long time to execute."
      ]
    },
    {
      "cell_type": "code",
      "metadata": {
        "id": "E4nGCUQXBTzo"
      },
      "source": [
        "# you can use this function for random classifier also\n",
        "def AverageAccuracy(alldata, alllabel, splitpercent, iterations, classifier=NN):\n",
        "  accuracy = 0\n",
        "  for ii in range(iterations):\n",
        "    traindata, trainlabel, valdata, vallabel = split(alldata, alllabel, splitpercent)\n",
        "    valpred = classifier(traindata, trainlabel, valdata)\n",
        "    accuracy += Accuracy(vallabel, valpred)\n",
        "  return accuracy/iterations # average of all accuracies"
      ],
      "execution_count": 34,
      "outputs": []
    },
    {
      "cell_type": "code",
      "metadata": {
        "id": "H3qtNar7Bbik",
        "colab": {
          "base_uri": "https://localhost:8080/"
        },
        "outputId": "35c0b0a7-b020-4101-a0e6-bf152b05fca2"
      },
      "source": [
        "print('Average validation accuracy is ', AverageAccuracy(alltraindata, alltrainlabel, 75/100, 10, classifier=NN))\n",
        "testpred = NN(alltraindata, alltrainlabel, testdata)\n",
        "print('test accuracy is ',Accuracy(testlabel, testpred) )"
      ],
      "execution_count": 35,
      "outputs": [
        {
          "output_type": "stream",
          "name": "stdout",
          "text": [
            "Average validation accuracy is  0.3382721615409337\n",
            "test accuracy is  0.34917953667953666\n"
          ]
        }
      ]
    },
    {
      "cell_type": "code",
      "source": [
        "print('Average validation accuracy is ', AverageAccuracy(alltraindata, alltrainlabel, 85/100, 10, classifier=NN))\n",
        "testpred = NN(traindata, trainlabel, testdata)\n",
        "print('test accuracy is ',Accuracy(testlabel, testpred) )"
      ],
      "metadata": {
        "colab": {
          "base_uri": "https://localhost:8080/"
        },
        "id": "4taGecOeXfuX",
        "outputId": "a57d58d6-8f3b-4730-c343-96f44c066ff7"
      },
      "execution_count": 38,
      "outputs": [
        {
          "output_type": "stream",
          "name": "stdout",
          "text": [
            "Average validation accuracy is  0.3442041108431059\n",
            "test accuracy is  0.3421814671814672\n"
          ]
        }
      ]
    },
    {
      "cell_type": "markdown",
      "metadata": {
        "id": "33GIn4x5VH-d"
      },
      "source": [
        "This is a very simple way of doing cross-validation. There are many well-known algorithms for cross-validation, like k-fold cross-validation, leave-one-out etc. This will be covered in detail in a later module. For more information about cross-validation, check <a href=https://en.wikipedia.org/wiki/Cross-validation_(statistics)>Cross-validatioin (Wikipedia)</a>\n",
        "\n",
        "### Questions\n",
        "1. Does averaging the validation accuracy across multiple splits give more consistent results?\n",
        "2. Does it give more accurate estimate of test accuracy?\n",
        "3. What is the effect of the number of iterations on the estimate? Do we get a better estimate with higher iterations?\n",
        "4. Consider the results you got for the previous questions. Can we deal with a very small train dataset or validation dataset by increasing the iterations?\n"
      ]
    },
    {
      "cell_type": "markdown",
      "source": [
        "# ANSWERS\n",
        "1) When we train a machine learning model using data, we often see that the results can change slightly from one attempt to another. This means that the accuracy we get on our test and validation data may not always be the same. To make our accuracy measurements more reliable, we can run the training process multiple times and then calculate an average of the validation accuracy across all these runs. This helps us get a more consistent and dependable estimate of how well our model is performing because it considers the different results we get each time we train the model. By doing this, we reduce the impact of random variations and can trust our assessment of the model's performance better.\n",
        "\n",
        "2) If the average validation accuracy is high, it's a good sign that the model will probably do well on the test data too. Usually, when you see a high validation accuracy, it means the model is quite reliable. But keep in mind that the test accuracy might be a bit lower than the validation accuracy. However, big changes in accuracy are unlikely unless the test data is very different from the data used to train the model, with very different values or patterns."
      ],
      "metadata": {
        "id": "aNbMR4bNZUH4"
      }
    },
    {
      "cell_type": "code",
      "source": [
        "def AverageAccuracy(alldata, alllabel, splitpercent, iterations, classifier=NN):\n",
        "  accuracy = 0\n",
        "  for ii in range(iterations):\n",
        "    traindata, trainlabel, valdata, vallabel = split(alldata, alllabel, splitpercent)\n",
        "    valpred = classifier(traindata, trainlabel, valdata)\n",
        "    accuracy += Accuracy(vallabel, valpred)\n",
        "  return accuracy/iterations\n",
        "def Accuracy(gtlabel, predlabel):\n",
        "  assert len(gtlabel)==len(predlabel), \"Length of the groundtruth labels and predicted labels should be the same\"\n",
        "  correct = (gtlabel==predlabel).sum() # count the number of times the groundtruth label is equal to the predicted label.\n",
        "  return correct/len(gtlabel)\n",
        "def getAccuracyDetails(iterationVal):\n",
        "  accValData = []\n",
        "  accTestData = []\n",
        "  iterations = []\n",
        "  for i in range(10, iterationVal, 10):\n",
        "    print('Predicting for Iteration ', i)\n",
        "    avgValAccuracy = AverageAccuracy(alltraindata, alltrainlabel, 75/100, i, classifier = NN)\n",
        "    testPred = NN(alltraindata, alltrainlabel, testdata)\n",
        "    avgTestAccuracy = Accuracy(testlabel, testPred)\n",
        "    iterations.append(i)\n",
        "    accValData.append(avgValAccuracy)\n",
        "    accTestData.append(avgTestAccuracy)\n",
        "  return iterations, accValData, accTestData"
      ],
      "metadata": {
        "id": "Dpyv2Q9talQw"
      },
      "execution_count": 42,
      "outputs": []
    },
    {
      "cell_type": "code",
      "source": [
        "\n",
        "iterations, accValData, accTestData = getAccuracyDetails(51)\n"
      ],
      "metadata": {
        "colab": {
          "base_uri": "https://localhost:8080/"
        },
        "id": "RnCwBnnBi3rR",
        "outputId": "707370a8-844f-4165-baae-f7d02c642f23"
      },
      "execution_count": 43,
      "outputs": [
        {
          "output_type": "stream",
          "name": "stdout",
          "text": [
            "Predicting for Iteration  10\n",
            "Predicting for Iteration  20\n",
            "Predicting for Iteration  30\n",
            "Predicting for Iteration  40\n",
            "Predicting for Iteration  50\n"
          ]
        }
      ]
    },
    {
      "cell_type": "code",
      "source": [
        "plt.scatter(iterations, accValData)\n",
        "plt.plot(iterations, accValData, label = \"Value accuracy\")\n",
        "plt.xlabel(\"Iterations\")\n",
        "plt.ylabel(\"Accuracy\")\n",
        "\n",
        "plt.scatter(iterations, accTestData)\n",
        "plt.plot(iterations, accTestData, label = \"Test accuracy\")\n",
        "plt.title(\"Iteration VS Accuracy\")\n",
        "plt.legend()\n",
        "\n",
        "plt.show()"
      ],
      "metadata": {
        "colab": {
          "base_uri": "https://localhost:8080/",
          "height": 472
        },
        "id": "ZfLTB-rMk_-d",
        "outputId": "6aa78b80-edf0-4656-ace6-f8a3fa5db868"
      },
      "execution_count": 44,
      "outputs": [
        {
          "output_type": "display_data",
          "data": {
            "text/plain": [
              "<Figure size 640x480 with 1 Axes>"
            ],
            "image/png": "[encoded data removed]"
          },
          "metadata": {}
        }
      ]
    },
    {
      "cell_type": "markdown",
      "source": [
        "4) The model's effectiveness, or its ability to make accurate predictions, tends to improve as we increase the number of iterations during training. However, there's a point where increasing iterations can lead to overfitting, where the model becomes too specialized for the training data and doesn't generalize well to new, unseen data. To strike a balance, it's essential to find the optimal number of iterations that works best for a specific model. This optimal number of iterations can vary from one model to another."
      ],
      "metadata": {
        "id": "HdY5qUYolPtu"
      }
    }
  ]
}